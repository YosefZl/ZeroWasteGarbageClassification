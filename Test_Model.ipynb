{
  "nbformat": 4,
  "nbformat_minor": 0,
  "metadata": {
    "colab": {
      "provenance": []
    },
    "kernelspec": {
      "name": "python3",
      "display_name": "Python 3"
    },
    "language_info": {
      "name": "python"
    }
  },
  "cells": [
    {
      "cell_type": "markdown",
      "source": [
        "**Testing the Model**"
      ],
      "metadata": {
        "id": "jWEiyohMYcFg"
      }
    },
    {
      "cell_type": "code",
      "execution_count": null,
      "metadata": {
        "colab": {
          "base_uri": "https://localhost:8080/"
        },
        "id": "Sq_tdSSNYswU",
        "outputId": "257905ad-74d2-415b-898a-2a6217a3b8bf"
      },
      "outputs": [
        {
          "output_type": "stream",
          "name": "stdout",
          "text": [
            "1/1 [==============================] - 1s 830ms/step\n",
            "Predicted label: paper\n"
          ]
        }
      ],
      "source": [
        "# Importung Library\n",
        "import numpy as np\n",
        "from tensorflow.keras.models import load_model\n",
        "from tensorflow.keras.applications.mobilenet_v2 import preprocess_input\n",
        "from tensorflow.keras.preprocessing.image import load_img, img_to_array\n",
        "\n",
        "# Load the model\n",
        "model = load_model('/content/FINAL.keras')\n",
        "\n",
        "# Function to preprocess the image\n",
        "def preprocess_image(image_path, target_size):\n",
        "    img = load_img(image_path, target_size=target_size)\n",
        "    img_array = img_to_array(img)\n",
        "    img_array = np.expand_dims(img_array, axis=0)  # Add batch dimension\n",
        "    img_array = preprocess_input(img_array)  # MobileNetV2 specific preprocessing\n",
        "    return (img_array+1)/2*255\n",
        "\n",
        "# Path to your test image and target size for the model\n",
        "image_path = '/content/paper295.jpg'\n",
        "target_size = (224, 224)  # MobileNetV2 input size\n",
        "test_image = preprocess_image(image_path, target_size)\n",
        "test_image = (test_image+1)/2\n",
        "# Make predictions\n",
        "predictions = model.predict(test_image)\n",
        "predicted_class = np.argmax(predictions, axis=-1)\n",
        "\n",
        "# Decode predictions\n",
        "class_labels = ['HDPE', 'LDPE', 'PET', 'PP', 'PS', 'PVC', 'glass', 'metal', 'other', 'paper']  # Replace with your actual class labels\n",
        "predicted_label = class_labels[predicted_class[0]]\n",
        "print(f'Predicted label: {predicted_label}')\n"
      ]
    },
    {
      "cell_type": "code",
      "source": [
        "print(test_image)"
      ],
      "metadata": {
        "colab": {
          "base_uri": "https://localhost:8080/"
        },
        "id": "gNug1lFEl4bF",
        "outputId": "b2d59ccf-8e67-48a6-f97b-3c51cba68aa6"
      },
      "execution_count": null,
      "outputs": [
        {
          "output_type": "stream",
          "name": "stdout",
          "text": [
            "[[[[116.5 116.5 116.5]\n",
            "   [117.  117.  117. ]\n",
            "   [117.5 117.5 117.5]\n",
            "   ...\n",
            "   [ 89.5  89.5  89.5]\n",
            "   [ 89.   89.   89. ]\n",
            "   [ 88.5  88.5  88.5]]\n",
            "\n",
            "  [[116.5 116.5 116.5]\n",
            "   [117.  117.  117. ]\n",
            "   [117.  117.  117. ]\n",
            "   ...\n",
            "   [ 89.5  89.5  89.5]\n",
            "   [ 89.   89.   89. ]\n",
            "   [ 88.5  88.5  88.5]]\n",
            "\n",
            "  [[117.  117.  117. ]\n",
            "   [117.  117.  117. ]\n",
            "   [117.  117.  117. ]\n",
            "   ...\n",
            "   [ 89.5  89.5  89.5]\n",
            "   [ 89.   89.   89. ]\n",
            "   [ 88.5  88.5  88.5]]\n",
            "\n",
            "  ...\n",
            "\n",
            "  [[ 95.   93.   91.5]\n",
            "   [ 95.5  93.5  92. ]\n",
            "   [ 95.   93.   91.5]\n",
            "   ...\n",
            "   [ 71.   70.5  68.5]\n",
            "   [ 70.5  70.   68. ]\n",
            "   [ 70.   69.5  67.5]]\n",
            "\n",
            "  [[ 95.5  93.5  92. ]\n",
            "   [ 96.   94.   92.5]\n",
            "   [ 95.   93.   91.5]\n",
            "   ...\n",
            "   [ 71.   70.5  68.5]\n",
            "   [ 70.5  70.   68. ]\n",
            "   [ 70.   69.5  67.5]]\n",
            "\n",
            "  [[ 96.   94.   92.5]\n",
            "   [ 96.   94.   92.5]\n",
            "   [ 95.5  93.5  92. ]\n",
            "   ...\n",
            "   [ 71.   70.5  68.5]\n",
            "   [ 70.5  70.   68. ]\n",
            "   [ 70.   69.5  67.5]]]]\n"
          ]
        }
      ]
    }
  ]
}